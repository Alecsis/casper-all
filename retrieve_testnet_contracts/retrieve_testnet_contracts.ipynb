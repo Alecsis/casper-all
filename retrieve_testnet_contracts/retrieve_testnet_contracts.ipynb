{
 "cells": [
  {
   "cell_type": "code",
   "execution_count": 29,
   "metadata": {},
   "outputs": [],
   "source": [
    "import requests\n",
    "import json\n",
    "import pandas as pd\n",
    "import asyncio\n",
    "from dataclasses import dataclass\n",
    "from typing import List, Dict"
   ]
  },
  {
   "cell_type": "code",
   "execution_count": 30,
   "metadata": {},
   "outputs": [],
   "source": [
    "PROTOCOL = \"HTTPS://\"\n",
    "DOMAIN = \"event-store-api-clarity-testnet.make.services\"\n",
    "ENDPOINT = \"/contract-packages/\"\n",
    "BASE_URL = PROTOCOL + DOMAIN + ENDPOINT\n",
    "LIMIT = 100"
   ]
  },
  {
   "cell_type": "code",
   "execution_count": 31,
   "metadata": {},
   "outputs": [],
   "source": [
    "@dataclass\n",
    "class ContractPackage:\n",
    "    contract_package_hash: str\n",
    "    owner_public_key: str\n",
    "    contract_type_id: int\n",
    "    contract_name: str\n",
    "    contract_description: str\n",
    "    timestamp: str\n",
    "\n",
    "    @classmethod\n",
    "    def from_json(cls, json_data):\n",
    "        return cls(\n",
    "            contract_package_hash=json_data[\"contract_package_hash\"],\n",
    "            owner_public_key=json_data[\"owner_public_key\"],\n",
    "            contract_type_id=json_data[\"contract_type_id\"],\n",
    "            contract_name=json_data[\"contract_name\"],\n",
    "            contract_description=json_data[\"contract_description\"],\n",
    "            timestamp=json_data[\"timestamp\"]\n",
    "        )"
   ]
  },
  {
   "cell_type": "code",
   "execution_count": 32,
   "metadata": {},
   "outputs": [],
   "source": [
    "def get_page(base_url: str, page_number: int) -> dict:\n",
    "    url = BASE_URL  + f\"?page={page_number}&limit={LIMIT}\"\n",
    "    res = requests.get(url)\n",
    "    return res.json()\n",
    "\n",
    "def get_first_page(base_url: str) -> dict:\n",
    "    current_page = 1\n",
    "    return get_page(base_url, current_page)\n",
    "\n",
    "def read_page_count_from_data(data):\n",
    "    return data[\"pageCount\"]    \n",
    "\n",
    "def get_all_pages_data(base_url: str, page_count: int) -> list:\n",
    "    all_pages_data = []\n",
    "    for i in range(1, page_count + 1):\n",
    "        all_pages_data.extend(get_page(base_url, i)[\"data\"])\n",
    "    return all_pages_data\n",
    "\n",
    "def async_get_all_pages_data(base_url: str, page_count: int) -> list:\n",
    "    \"\"\" uses asyncio \"\"\"\n",
    "    all_pages_data = []\n",
    "    async def get_page_data(page_number: int):\n",
    "        url = BASE_URL  + f\"?page={page_number}&limit={LIMIT}\"\n",
    "        res = requests.get(url)\n",
    "        all_pages_data.extend(res.json()[\"data\"])\n",
    "    loop = asyncio.get_event_loop()\n",
    "    tasks = [asyncio.ensure_future(get_page_data(i)) for i in range(1, page_count + 1)]\n",
    "    loop.run_until_complete(asyncio.wait(tasks))\n",
    "    return all_pages_data"
   ]
  },
  {
   "cell_type": "code",
   "execution_count": 33,
   "metadata": {},
   "outputs": [
    {
     "ename": "RuntimeError",
     "evalue": "This event loop is already running",
     "output_type": "error",
     "traceback": [
      "\u001b[0;31m---------------------------------------------------------------------------\u001b[0m",
      "\u001b[0;31mRuntimeError\u001b[0m                              Traceback (most recent call last)",
      "\u001b[1;32m/Users/alexis/Desktop/casper-all/retrieve_testnet_contracts.ipynb Cell 5'\u001b[0m in \u001b[0;36m<cell line: 3>\u001b[0;34m()\u001b[0m\n\u001b[1;32m      <a href='vscode-notebook-cell:/Users/alexis/Desktop/casper-all/retrieve_testnet_contracts.ipynb#ch0000006?line=0'>1</a>\u001b[0m first_page \u001b[39m=\u001b[39m get_first_page(BASE_URL)\n\u001b[1;32m      <a href='vscode-notebook-cell:/Users/alexis/Desktop/casper-all/retrieve_testnet_contracts.ipynb#ch0000006?line=1'>2</a>\u001b[0m page_count \u001b[39m=\u001b[39m read_page_count_from_data(first_page)\n\u001b[0;32m----> <a href='vscode-notebook-cell:/Users/alexis/Desktop/casper-all/retrieve_testnet_contracts.ipynb#ch0000006?line=2'>3</a>\u001b[0m all_pages_data \u001b[39m=\u001b[39m async_get_all_pages_data(BASE_URL, page_count)\n",
      "\u001b[1;32m/Users/alexis/Desktop/casper-all/retrieve_testnet_contracts.ipynb Cell 4'\u001b[0m in \u001b[0;36masync_get_all_pages_data\u001b[0;34m(base_url, page_count)\u001b[0m\n\u001b[1;32m     <a href='vscode-notebook-cell:/Users/alexis/Desktop/casper-all/retrieve_testnet_contracts.ipynb#ch0000004?line=25'>26</a>\u001b[0m loop \u001b[39m=\u001b[39m asyncio\u001b[39m.\u001b[39mget_event_loop()\n\u001b[1;32m     <a href='vscode-notebook-cell:/Users/alexis/Desktop/casper-all/retrieve_testnet_contracts.ipynb#ch0000004?line=26'>27</a>\u001b[0m tasks \u001b[39m=\u001b[39m [asyncio\u001b[39m.\u001b[39mensure_future(get_page_data(i)) \u001b[39mfor\u001b[39;00m i \u001b[39min\u001b[39;00m \u001b[39mrange\u001b[39m(\u001b[39m1\u001b[39m, page_count \u001b[39m+\u001b[39m \u001b[39m1\u001b[39m)]\n\u001b[0;32m---> <a href='vscode-notebook-cell:/Users/alexis/Desktop/casper-all/retrieve_testnet_contracts.ipynb#ch0000004?line=27'>28</a>\u001b[0m loop\u001b[39m.\u001b[39;49mrun_until_complete(asyncio\u001b[39m.\u001b[39;49mwait(tasks))\n\u001b[1;32m     <a href='vscode-notebook-cell:/Users/alexis/Desktop/casper-all/retrieve_testnet_contracts.ipynb#ch0000004?line=28'>29</a>\u001b[0m \u001b[39mreturn\u001b[39;00m all_pages_data\n",
      "File \u001b[0;32m~/.pyenv/versions/3.10.4/lib/python3.10/asyncio/base_events.py:622\u001b[0m, in \u001b[0;36mBaseEventLoop.run_until_complete\u001b[0;34m(self, future)\u001b[0m\n\u001b[1;32m    611\u001b[0m \u001b[39m\"\"\"Run until the Future is done.\u001b[39;00m\n\u001b[1;32m    612\u001b[0m \n\u001b[1;32m    613\u001b[0m \u001b[39mIf the argument is a coroutine, it is wrapped in a Task.\u001b[39;00m\n\u001b[0;32m   (...)\u001b[0m\n\u001b[1;32m    619\u001b[0m \u001b[39mReturn the Future's result, or raise its exception.\u001b[39;00m\n\u001b[1;32m    620\u001b[0m \u001b[39m\"\"\"\u001b[39;00m\n\u001b[1;32m    621\u001b[0m \u001b[39mself\u001b[39m\u001b[39m.\u001b[39m_check_closed()\n\u001b[0;32m--> 622\u001b[0m \u001b[39mself\u001b[39;49m\u001b[39m.\u001b[39;49m_check_running()\n\u001b[1;32m    624\u001b[0m new_task \u001b[39m=\u001b[39m \u001b[39mnot\u001b[39;00m futures\u001b[39m.\u001b[39misfuture(future)\n\u001b[1;32m    625\u001b[0m future \u001b[39m=\u001b[39m tasks\u001b[39m.\u001b[39mensure_future(future, loop\u001b[39m=\u001b[39m\u001b[39mself\u001b[39m)\n",
      "File \u001b[0;32m~/.pyenv/versions/3.10.4/lib/python3.10/asyncio/base_events.py:582\u001b[0m, in \u001b[0;36mBaseEventLoop._check_running\u001b[0;34m(self)\u001b[0m\n\u001b[1;32m    580\u001b[0m \u001b[39mdef\u001b[39;00m \u001b[39m_check_running\u001b[39m(\u001b[39mself\u001b[39m):\n\u001b[1;32m    581\u001b[0m     \u001b[39mif\u001b[39;00m \u001b[39mself\u001b[39m\u001b[39m.\u001b[39mis_running():\n\u001b[0;32m--> 582\u001b[0m         \u001b[39mraise\u001b[39;00m \u001b[39mRuntimeError\u001b[39;00m(\u001b[39m'\u001b[39m\u001b[39mThis event loop is already running\u001b[39m\u001b[39m'\u001b[39m)\n\u001b[1;32m    583\u001b[0m     \u001b[39mif\u001b[39;00m events\u001b[39m.\u001b[39m_get_running_loop() \u001b[39mis\u001b[39;00m \u001b[39mnot\u001b[39;00m \u001b[39mNone\u001b[39;00m:\n\u001b[1;32m    584\u001b[0m         \u001b[39mraise\u001b[39;00m \u001b[39mRuntimeError\u001b[39;00m(\n\u001b[1;32m    585\u001b[0m             \u001b[39m'\u001b[39m\u001b[39mCannot run the event loop while another loop is running\u001b[39m\u001b[39m'\u001b[39m)\n",
      "\u001b[0;31mRuntimeError\u001b[0m: This event loop is already running"
     ]
    }
   ],
   "source": [
    "first_page = get_first_page(BASE_URL)\n",
    "page_count = read_page_count_from_data(first_page)\n",
    "all_pages_data = async_get_all_pages_data(BASE_URL, page_count)"
   ]
  }
 ],
 "metadata": {
  "kernelspec": {
   "display_name": "Python 3.10.4 64-bit ('3.10.4')",
   "language": "python",
   "name": "python3"
  },
  "language_info": {
   "codemirror_mode": {
    "name": "ipython",
    "version": 3
   },
   "file_extension": ".py",
   "mimetype": "text/x-python",
   "name": "python",
   "nbconvert_exporter": "python",
   "pygments_lexer": "ipython3",
   "version": "3.10.4"
  },
  "orig_nbformat": 4,
  "vscode": {
   "interpreter": {
    "hash": "d8f55bf8bd8b3abc08cf267863407498c06f62b6e44e2f54a568031ea917d135"
   }
  }
 },
 "nbformat": 4,
 "nbformat_minor": 2
}
